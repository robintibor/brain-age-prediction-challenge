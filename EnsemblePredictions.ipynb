{
 "cells": [
  {
   "cell_type": "code",
   "execution_count": 1,
   "id": "4baf2c32-baf8-4047-ac4e-f3e64afb5f18",
   "metadata": {},
   "outputs": [
    {
     "name": "stderr",
     "output_type": "stream",
     "text": [
      "/home/schirrmr/anaconda3/envs/invertible/lib/python3.7/site-packages/matplotlib_inline/config.py:75: DeprecationWarning: InlineBackend._figure_format_changed is deprecated in traitlets 4.1: use @observe and @unobserve instead.\n",
      "  def _figure_format_changed(self, name, old, new):\n"
     ]
    }
   ],
   "source": [
    "%config Completer.use_jedi=False\n",
    "\n",
    "%load_ext autoreload\n",
    "%autoreload 2\n",
    "\n",
    "import os\n",
    "os.sys.path.insert(0, '/home/schirrmr/code/invertible-public/')\n",
    "os.sys.path.insert(0, '/home/schirrmr/code/invertible-eeg//')\n",
    "os.sys.path.insert(0, '/home/schirrmr/code/invertible-neurips///')\n",
    "os.sys.path.insert(0, '/home/schirrmr/code/utils/')\n",
    "os.sys.path.insert(0, '/home/schirrmr/code/lossy/')\n",
    "os.sys.path.insert(0, '/home/schirrmr/code/dataset-condensation//')\n",
    "os.sys.path.insert(0, '/home/schirrmr/code/nfnets/')\n",
    "os.sys.path.insert(0, '/home/schirrmr/code/cifar10-clf/')\n",
    "from torch import nn\n",
    "from invertibleeeg.images.datautil import restrict_to_classes\n",
    "import torch as th\n",
    "th.backends.cudnn.benchmark = True\n",
    "import numpy as np\n",
    "from tqdm.autonotebook import tqdm, trange\n",
    "from rtsutils.nb_util import Results\n",
    "from skorch.utils import to_tensor, to_numpy\n",
    "from braindecode.util import set_random_seeds\n",
    "from rtsutils.plot import create_rgb_image, rescale\n",
    "import PIL.ImageDraw as ImageDraw\n",
    "from PIL import ImageFont\n",
    "import higher\n",
    "import kornia\n",
    "from itertools import islice\n",
    "import functools\n",
    "from functools import partial\n",
    "from torchvision import transforms\n",
    "import torchvision\n",
    "\n",
    "from invertible.view_as import Flatten2d\n",
    "from invertible.pure_model import NoLogDet\n",
    "from rtsutils.optim import grads_all_finite \n",
    "import pandas as pd\n",
    "from rtsutils.scheduler import CosineAnnealing\n",
    "from invertibleeeg.images.optim import RAdam\n",
    "from torch.optim import Adam\n",
    "\n",
    "from rtsutils.scheduler import ScheduledOptimizer\n",
    "import higher\n",
    "import kornia\n",
    "from itertools import islice\n",
    "from invertible.expression import Expression\n",
    "import functools\n",
    "from functools import partial\n",
    "# train one step with optimized inputs \n",
    "from rtsutils.plot import create_bw_image, rescale, stack_images_in_rows, create_rgb_image\n",
    "from torch.optim import Adam\n",
    "import matplotlib\n",
    "import matplotlib.pyplot as plt\n",
    "from matplotlib import cm\n",
    "import seaborn\n",
    "seaborn.set_palette('colorblind')\n",
    "seaborn.set_style('darkgrid')\n",
    "\n",
    "%matplotlib inline\n",
    "%config InlineBackend.figure_format = 'png'\n",
    "#matplotlib.rcParams['figure.figsize'] = (12.0, 1.0)\n",
    "matplotlib.rcParams['font.size'] = 14\n",
    "from rtsutils.util import th_to_np, np_to_th\n",
    "import torch\n",
    "from GPUtil import showUtilization as gpu_usage\n",
    "\n",
    "import os.path\n",
    "import sys\n",
    "from itertools import islice\n",
    "\n",
    "import kornia\n",
    "import numpy as np\n",
    "import torch\n",
    "import torch as th\n",
    "from braindecode.models.modules import Expression\n",
    "from braindecode.util import set_random_seeds\n",
    "from tensorboardX.writer import SummaryWriter\n",
    "from torch import nn\n",
    "from torchvision.utils import save_image\n",
    "\n",
    "from rtsutils.util import np_to_th, th_to_np\n",
    "import logging\n",
    "import sys\n",
    "\n",
    "\n",
    "import os\n",
    "os.environ['pytorch_data'] = '/home/schirrmr/data/pytorch-datasets/'\n",
    "os.environ['mimic_cxr'] = \"/work/dlclarge2/schirrmr-mimic-cxr-jpg/physionet.org/files/mimic-cxr-jpg/2.0.0/\"\n",
    "os.environ['small_glow_path'] = \"/home/schirrmr/data/exps/invertible-neurips/smaller-glow/21/10_model.th\"\n",
    "os.environ['normal_glow_path'] = \"/home/schirrmr/data/exps/invertible/pretrain/57/10_model.neurips.th\"\n",
    "\n",
    "\n",
    "\n",
    "from hyperoptim.results import (load_data_frame, remove_columns_with_same_value,\n",
    "                                mean_identical_exps, dataset_averaged_frame,\n",
    "                                extract_epoch_dfs)\n",
    "import itertools\n",
    "logging.basicConfig(\n",
    "    format=\"%(asctime)s %(levelname)s : %(message)s\",\n",
    "    level=logging.DEBUG,\n",
    ")\n",
    "log = logging.getLogger()\n",
    "log.setLevel(\"DEBUG\")\n",
    "notebookdir_path = os.path.dirname(os.path.realpath(\"__file__\")).replace('/home/schirrmr/', \"\")\n",
    "output_dir = os.path.join('/home/schirrmr/data/exps/notebooks', notebookdir_path)\n",
    "os.makedirs(output_dir, exist_ok=True)"
   ]
  },
  {
   "cell_type": "code",
   "execution_count": 2,
   "id": "05b61c8b-1b21-452c-93c5-eaeff084ec1a",
   "metadata": {},
   "outputs": [
    {
     "name": "stderr",
     "output_type": "stream",
     "text": [
      "2022-11-24 11:54:42,269 INFO : Note: NumExpr detected 64 cores but \"NUMEXPR_MAX_THREADS\" not set, so enforcing safe limit of 8.\n",
      "2022-11-24 11:54:42,270 INFO : NumExpr defaulting to 8 threads.\n"
     ]
    },
    {
     "name": "stdout",
     "output_type": "stream",
     "text": [
      "1502\n"
     ]
    }
   ],
   "source": [
    "folder = '/work/dlclarge2/schirrmr-eeg-age-competition/exps/'\n",
    "df = load_data_frame(folder)\n",
    "df = df[df.finished == 1]\n",
    "df = df.fillna('-')\n",
    "df = df[df.debug == 0]\n",
    "df = df.drop('save_folder', axis=1)\n",
    "df = df.drop('seed', axis=1)\n",
    "df.loc[:,'runtime'] = pd.to_timedelta(np.round(df.runtime), unit='s')\n",
    "print(len(df))\n",
    "df = df[df.n_swa_epochs != 5]\n",
    "df = df.drop('n_swa_epochs', axis=1)\n",
    "df.loc[:460,'valid_loss_orig'] = df.loc[:, 'valid_loss_orig']  * 0.7714086201309\n",
    "df.loc[:40,'train_loss_orig'] = df.loc[:, 'train_loss_orig']  * 0.7714086201309\n",
    "#437 before the 960"
   ]
  },
  {
   "cell_type": "code",
   "execution_count": 3,
   "id": "4bf67fe4-ce7b-400b-9aab-92fc67e99a63",
   "metadata": {},
   "outputs": [
    {
     "data": {
      "text/html": [
       "<div>\n",
       "<style scoped>\n",
       "    .dataframe tbody tr th:only-of-type {\n",
       "        vertical-align: middle;\n",
       "    }\n",
       "\n",
       "    .dataframe tbody tr th {\n",
       "        vertical-align: top;\n",
       "    }\n",
       "\n",
       "    .dataframe thead th {\n",
       "        text-align: right;\n",
       "    }\n",
       "</style>\n",
       "<table border=\"1\" class=\"dataframe\">\n",
       "  <thead>\n",
       "    <tr style=\"text-align: right;\">\n",
       "      <th></th>\n",
       "      <th>low_cut_hz</th>\n",
       "      <th>lr_schedule</th>\n",
       "      <th>common_average_rereference</th>\n",
       "      <th>n_start_filters</th>\n",
       "      <th>lr</th>\n",
       "      <th>n_swavg_epochs</th>\n",
       "      <th>n_epochs</th>\n",
       "      <th>save_valid_preds</th>\n",
       "      <th>n_exp</th>\n",
       "      <th>runtime</th>\n",
       "      <th>valid_loss_orig</th>\n",
       "      <th>valid_loss</th>\n",
       "      <th>train_loss_orig</th>\n",
       "      <th>valid_loss_trial_orig</th>\n",
       "      <th>train_loss</th>\n",
       "      <th>valid_loss_trial</th>\n",
       "    </tr>\n",
       "  </thead>\n",
       "  <tbody>\n",
       "    <tr>\n",
       "      <th>4</th>\n",
       "      <td>0.5</td>\n",
       "      <td>-</td>\n",
       "      <td>True</td>\n",
       "      <td>50.0</td>\n",
       "      <td>0.0003</td>\n",
       "      <td>10.0</td>\n",
       "      <td>30</td>\n",
       "      <td>True</td>\n",
       "      <td>10</td>\n",
       "      <td>0 days 00:22:27.100000</td>\n",
       "      <td>1.755626</td>\n",
       "      <td>0.103926</td>\n",
       "      <td>0.912281</td>\n",
       "      <td>1.570823</td>\n",
       "      <td>0.054003</td>\n",
       "      <td>0.092986</td>\n",
       "    </tr>\n",
       "    <tr>\n",
       "      <th>7</th>\n",
       "      <td>1</td>\n",
       "      <td>-</td>\n",
       "      <td>-</td>\n",
       "      <td>50.0</td>\n",
       "      <td>0.0003</td>\n",
       "      <td>10.0</td>\n",
       "      <td>30</td>\n",
       "      <td>-</td>\n",
       "      <td>10</td>\n",
       "      <td>0 days 00:23:42.300000</td>\n",
       "      <td>1.756746</td>\n",
       "      <td>0.103992</td>\n",
       "      <td>0.920096</td>\n",
       "      <td>1.613470</td>\n",
       "      <td>0.054466</td>\n",
       "      <td>0.095511</td>\n",
       "    </tr>\n",
       "    <tr>\n",
       "      <th>2</th>\n",
       "      <td>0.2</td>\n",
       "      <td>-</td>\n",
       "      <td>-</td>\n",
       "      <td>50.0</td>\n",
       "      <td>0.0003</td>\n",
       "      <td>10.0</td>\n",
       "      <td>30</td>\n",
       "      <td>-</td>\n",
       "      <td>10</td>\n",
       "      <td>0 days 00:22:52.100000</td>\n",
       "      <td>1.791861</td>\n",
       "      <td>0.106071</td>\n",
       "      <td>0.826738</td>\n",
       "      <td>1.618578</td>\n",
       "      <td>0.048939</td>\n",
       "      <td>0.095813</td>\n",
       "    </tr>\n",
       "    <tr>\n",
       "      <th>3</th>\n",
       "      <td>0.3</td>\n",
       "      <td>-</td>\n",
       "      <td>-</td>\n",
       "      <td>50.0</td>\n",
       "      <td>0.0003</td>\n",
       "      <td>10.0</td>\n",
       "      <td>30</td>\n",
       "      <td>-</td>\n",
       "      <td>10</td>\n",
       "      <td>0 days 00:22:19.800000</td>\n",
       "      <td>1.787702</td>\n",
       "      <td>0.105824</td>\n",
       "      <td>0.868394</td>\n",
       "      <td>1.622735</td>\n",
       "      <td>0.051405</td>\n",
       "      <td>0.096059</td>\n",
       "    </tr>\n",
       "    <tr>\n",
       "      <th>1</th>\n",
       "      <td>0.15</td>\n",
       "      <td>-</td>\n",
       "      <td>-</td>\n",
       "      <td>50.0</td>\n",
       "      <td>0.0003</td>\n",
       "      <td>10.0</td>\n",
       "      <td>30</td>\n",
       "      <td>-</td>\n",
       "      <td>10</td>\n",
       "      <td>0 days 00:23:53.600000</td>\n",
       "      <td>1.800880</td>\n",
       "      <td>0.106604</td>\n",
       "      <td>0.836049</td>\n",
       "      <td>1.626728</td>\n",
       "      <td>0.049491</td>\n",
       "      <td>0.096295</td>\n",
       "    </tr>\n",
       "    <tr>\n",
       "      <th>...</th>\n",
       "      <td>...</td>\n",
       "      <td>...</td>\n",
       "      <td>...</td>\n",
       "      <td>...</td>\n",
       "      <td>...</td>\n",
       "      <td>...</td>\n",
       "      <td>...</td>\n",
       "      <td>...</td>\n",
       "      <td>...</td>\n",
       "      <td>...</td>\n",
       "      <td>...</td>\n",
       "      <td>...</td>\n",
       "      <td>...</td>\n",
       "      <td>...</td>\n",
       "      <td>...</td>\n",
       "      <td>...</td>\n",
       "    </tr>\n",
       "    <tr>\n",
       "      <th>10</th>\n",
       "      <td>4</td>\n",
       "      <td>-</td>\n",
       "      <td>False</td>\n",
       "      <td>50.0</td>\n",
       "      <td>0.0003</td>\n",
       "      <td>10.0</td>\n",
       "      <td>30</td>\n",
       "      <td>-</td>\n",
       "      <td>10</td>\n",
       "      <td>0 days 00:23:54.100000</td>\n",
       "      <td>3.185158</td>\n",
       "      <td>0.188548</td>\n",
       "      <td>2.672370</td>\n",
       "      <td>3.092252</td>\n",
       "      <td>0.158193</td>\n",
       "      <td>0.183048</td>\n",
       "    </tr>\n",
       "    <tr>\n",
       "      <th>13</th>\n",
       "      <td>8</td>\n",
       "      <td>-</td>\n",
       "      <td>True</td>\n",
       "      <td>50.0</td>\n",
       "      <td>0.0003</td>\n",
       "      <td>10.0</td>\n",
       "      <td>30</td>\n",
       "      <td>-</td>\n",
       "      <td>10</td>\n",
       "      <td>0 days 00:22:08.300000</td>\n",
       "      <td>3.212714</td>\n",
       "      <td>0.190179</td>\n",
       "      <td>2.705188</td>\n",
       "      <td>3.145642</td>\n",
       "      <td>0.160136</td>\n",
       "      <td>0.186209</td>\n",
       "    </tr>\n",
       "    <tr>\n",
       "      <th>8</th>\n",
       "      <td>2</td>\n",
       "      <td>-</td>\n",
       "      <td>False</td>\n",
       "      <td>50.0</td>\n",
       "      <td>0.0003</td>\n",
       "      <td>10.0</td>\n",
       "      <td>30</td>\n",
       "      <td>-</td>\n",
       "      <td>10</td>\n",
       "      <td>0 days 00:22:26.700000</td>\n",
       "      <td>3.245927</td>\n",
       "      <td>0.192145</td>\n",
       "      <td>2.687409</td>\n",
       "      <td>3.152976</td>\n",
       "      <td>0.159083</td>\n",
       "      <td>0.186643</td>\n",
       "    </tr>\n",
       "    <tr>\n",
       "      <th>11</th>\n",
       "      <td>4</td>\n",
       "      <td>-</td>\n",
       "      <td>True</td>\n",
       "      <td>50.0</td>\n",
       "      <td>0.0003</td>\n",
       "      <td>10.0</td>\n",
       "      <td>30</td>\n",
       "      <td>-</td>\n",
       "      <td>10</td>\n",
       "      <td>0 days 00:22:52.800000</td>\n",
       "      <td>3.499326</td>\n",
       "      <td>0.207145</td>\n",
       "      <td>3.042289</td>\n",
       "      <td>3.375097</td>\n",
       "      <td>0.180091</td>\n",
       "      <td>0.199791</td>\n",
       "    </tr>\n",
       "    <tr>\n",
       "      <th>12</th>\n",
       "      <td>8</td>\n",
       "      <td>-</td>\n",
       "      <td>False</td>\n",
       "      <td>50.0</td>\n",
       "      <td>0.0003</td>\n",
       "      <td>10.0</td>\n",
       "      <td>30</td>\n",
       "      <td>-</td>\n",
       "      <td>10</td>\n",
       "      <td>0 days 00:22:08.100000</td>\n",
       "      <td>4.665438</td>\n",
       "      <td>0.276174</td>\n",
       "      <td>4.292405</td>\n",
       "      <td>4.613548</td>\n",
       "      <td>0.254092</td>\n",
       "      <td>0.273102</td>\n",
       "    </tr>\n",
       "  </tbody>\n",
       "</table>\n",
       "<p>62 rows × 16 columns</p>\n",
       "</div>"
      ],
      "text/plain": [
       "   low_cut_hz lr_schedule common_average_rereference  n_start_filters      lr  \\\n",
       "4         0.5           -                       True             50.0  0.0003   \n",
       "7           1           -                          -             50.0  0.0003   \n",
       "2         0.2           -                          -             50.0  0.0003   \n",
       "3         0.3           -                          -             50.0  0.0003   \n",
       "1        0.15           -                          -             50.0  0.0003   \n",
       "..        ...         ...                        ...              ...     ...   \n",
       "10          4           -                      False             50.0  0.0003   \n",
       "13          8           -                       True             50.0  0.0003   \n",
       "8           2           -                      False             50.0  0.0003   \n",
       "11          4           -                       True             50.0  0.0003   \n",
       "12          8           -                      False             50.0  0.0003   \n",
       "\n",
       "    n_swavg_epochs  n_epochs save_valid_preds  n_exp                runtime  \\\n",
       "4             10.0        30             True     10 0 days 00:22:27.100000   \n",
       "7             10.0        30                -     10 0 days 00:23:42.300000   \n",
       "2             10.0        30                -     10 0 days 00:22:52.100000   \n",
       "3             10.0        30                -     10 0 days 00:22:19.800000   \n",
       "1             10.0        30                -     10 0 days 00:23:53.600000   \n",
       "..             ...       ...              ...    ...                    ...   \n",
       "10            10.0        30                -     10 0 days 00:23:54.100000   \n",
       "13            10.0        30                -     10 0 days 00:22:08.300000   \n",
       "8             10.0        30                -     10 0 days 00:22:26.700000   \n",
       "11            10.0        30                -     10 0 days 00:22:52.800000   \n",
       "12            10.0        30                -     10 0 days 00:22:08.100000   \n",
       "\n",
       "    valid_loss_orig  valid_loss  train_loss_orig  valid_loss_trial_orig  \\\n",
       "4          1.755626    0.103926         0.912281               1.570823   \n",
       "7          1.756746    0.103992         0.920096               1.613470   \n",
       "2          1.791861    0.106071         0.826738               1.618578   \n",
       "3          1.787702    0.105824         0.868394               1.622735   \n",
       "1          1.800880    0.106604         0.836049               1.626728   \n",
       "..              ...         ...              ...                    ...   \n",
       "10         3.185158    0.188548         2.672370               3.092252   \n",
       "13         3.212714    0.190179         2.705188               3.145642   \n",
       "8          3.245927    0.192145         2.687409               3.152976   \n",
       "11         3.499326    0.207145         3.042289               3.375097   \n",
       "12         4.665438    0.276174         4.292405               4.613548   \n",
       "\n",
       "    train_loss  valid_loss_trial  \n",
       "4     0.054003          0.092986  \n",
       "7     0.054466          0.095511  \n",
       "2     0.048939          0.095813  \n",
       "3     0.051405          0.096059  \n",
       "1     0.049491          0.096295  \n",
       "..         ...               ...  \n",
       "10    0.158193          0.183048  \n",
       "13    0.160136          0.186209  \n",
       "8     0.159083          0.186643  \n",
       "11    0.180091          0.199791  \n",
       "12    0.254092          0.273102  \n",
       "\n",
       "[62 rows x 16 columns]"
      ]
     },
     "execution_count": 3,
     "metadata": {},
     "output_type": "execute_result"
    }
   ],
   "source": [
    "df_with_seeds = df[(df.n_epochs >= 30) & (df.train_on_valid != True)\n",
    "                                 &(df.valid_loss_trial_orig != '-')]\n",
    "\n",
    "meaned_df = mean_identical_exps(df_with_seeds.drop('np_th_seed', axis=1),\n",
    "                    result_cols=('runtime', 'valid_loss_orig', 'valid_loss', 'train_loss_orig',\n",
    "       'finished', 'valid_loss_trial_orig', 'train_loss', 'valid_loss_trial')).sort_values(by='valid_loss_trial_orig')\n",
    "remove_columns_with_same_value(meaned_df)"
   ]
  },
  {
   "cell_type": "code",
   "execution_count": 4,
   "id": "3c332506-2573-4ed1-a015-020820bc3984",
   "metadata": {},
   "outputs": [
    {
     "data": {
      "text/html": [
       "<div>\n",
       "<style scoped>\n",
       "    .dataframe tbody tr th:only-of-type {\n",
       "        vertical-align: middle;\n",
       "    }\n",
       "\n",
       "    .dataframe tbody tr th {\n",
       "        vertical-align: top;\n",
       "    }\n",
       "\n",
       "    .dataframe thead th {\n",
       "        text-align: right;\n",
       "    }\n",
       "</style>\n",
       "<table border=\"1\" class=\"dataframe\">\n",
       "  <thead>\n",
       "    <tr style=\"text-align: right;\">\n",
       "      <th></th>\n",
       "    </tr>\n",
       "  </thead>\n",
       "  <tbody>\n",
       "    <tr>\n",
       "      <th>4</th>\n",
       "    </tr>\n",
       "  </tbody>\n",
       "</table>\n",
       "</div>"
      ],
      "text/plain": [
       "Empty DataFrame\n",
       "Columns: []\n",
       "Index: [4]"
      ]
     },
     "execution_count": 4,
     "metadata": {},
     "output_type": "execute_result"
    }
   ],
   "source": [
    "remove_columns_with_same_value(\n",
    "    meaned_df[(meaned_df.n_start_filters == 50) &\n",
    "             (meaned_df.n_epochs == 30) & (meaned_df.n_swavg_epochs ==10) &\n",
    "             (meaned_df.lr == 3e-4)  &\n",
    "             (meaned_df.low_cut_hz == 0.5) &\n",
    "             (meaned_df.lr_schedule == '-')&\n",
    "             (meaned_df.common_average_rereference == True)])"
   ]
  },
  {
   "cell_type": "code",
   "execution_count": 5,
   "id": "576be471-0603-43c4-9c6f-00c4db9121a7",
   "metadata": {},
   "outputs": [],
   "source": [
    "# First check how valid predictions would perform in ensemble"
   ]
  },
  {
   "cell_type": "code",
   "execution_count": 6,
   "id": "fc07edfd-1086-49a8-ae44-fbb0505ca61b",
   "metadata": {},
   "outputs": [],
   "source": [
    "part_valid_df = df[(df.n_start_filters == 50) &\n",
    "             (df.n_epochs == 30) & (df.n_swavg_epochs ==10) &\n",
    "             (df.lr == 3e-4)  &\n",
    "             (df.low_cut_hz == 0.5) &\n",
    "             (df.lr_schedule == '-')&\n",
    "             (df.common_average_rereference == True) &\n",
    "              (df.train_on_valid == False)]"
   ]
  },
  {
   "cell_type": "code",
   "execution_count": 8,
   "id": "42d32169-3cdb-4afa-9196-7df4adb99b0d",
   "metadata": {},
   "outputs": [
    {
     "data": {
      "text/plain": [
       "<matplotlib.collections.PathCollection at 0x7f5a73dcff90>"
      ]
     },
     "execution_count": 8,
     "metadata": {},
     "output_type": "execute_result"
    },
    {
     "data": {
      "image/png": "[encoded data removed]",
      "text/plain": [
       "<Figure size 432x288 with 1 Axes>"
      ]
     },
     "metadata": {
      "needs_background": "light"
     },
     "output_type": "display_data"
    }
   ],
   "source": [
    "plt.scatter(part_valid_df.train_loss_orig, part_valid_df.valid_loss_trial_orig)"
   ]
  },
  {
   "cell_type": "code",
   "execution_count": 9,
   "id": "94a1a72e-231a-44fa-ba47-09585e9fc546",
   "metadata": {},
   "outputs": [
    {
     "data": {
      "text/html": [
       "<div>\n",
       "<style scoped>\n",
       "    .dataframe tbody tr th:only-of-type {\n",
       "        vertical-align: middle;\n",
       "    }\n",
       "\n",
       "    .dataframe tbody tr th {\n",
       "        vertical-align: top;\n",
       "    }\n",
       "\n",
       "    .dataframe thead th {\n",
       "        text-align: right;\n",
       "    }\n",
       "</style>\n",
       "<table border=\"1\" class=\"dataframe\">\n",
       "  <thead>\n",
       "    <tr style=\"text-align: right;\">\n",
       "      <th></th>\n",
       "      <th>np_th_seed</th>\n",
       "      <th>valid_loss</th>\n",
       "      <th>valid_loss_trial</th>\n",
       "      <th>train_loss_orig</th>\n",
       "      <th>valid_loss_trial_orig</th>\n",
       "      <th>valid_loss_orig</th>\n",
       "      <th>train_loss</th>\n",
       "      <th>runtime</th>\n",
       "    </tr>\n",
       "  </thead>\n",
       "  <tbody>\n",
       "    <tr>\n",
       "      <th>1760</th>\n",
       "      <td>0</td>\n",
       "      <td>0.105525</td>\n",
       "      <td>0.0950339</td>\n",
       "      <td>0.903335</td>\n",
       "      <td>1.60542</td>\n",
       "      <td>1.782654</td>\n",
       "      <td>0.053474</td>\n",
       "      <td>0 days 00:24:12</td>\n",
       "    </tr>\n",
       "    <tr>\n",
       "      <th>1762</th>\n",
       "      <td>4</td>\n",
       "      <td>0.104634</td>\n",
       "      <td>0.095096</td>\n",
       "      <td>0.961287</td>\n",
       "      <td>1.60647</td>\n",
       "      <td>1.767598</td>\n",
       "      <td>0.056904</td>\n",
       "      <td>0 days 00:21:32</td>\n",
       "    </tr>\n",
       "    <tr>\n",
       "      <th>1764</th>\n",
       "      <td>6</td>\n",
       "      <td>0.101730</td>\n",
       "      <td>0.0897965</td>\n",
       "      <td>0.864627</td>\n",
       "      <td>1.51694</td>\n",
       "      <td>1.718528</td>\n",
       "      <td>0.051182</td>\n",
       "      <td>0 days 00:22:10</td>\n",
       "    </tr>\n",
       "    <tr>\n",
       "      <th>1767</th>\n",
       "      <td>5</td>\n",
       "      <td>0.103299</td>\n",
       "      <td>0.0918003</td>\n",
       "      <td>0.853056</td>\n",
       "      <td>1.55079</td>\n",
       "      <td>1.745050</td>\n",
       "      <td>0.050497</td>\n",
       "      <td>0 days 00:21:30</td>\n",
       "    </tr>\n",
       "    <tr>\n",
       "      <th>1768</th>\n",
       "      <td>1</td>\n",
       "      <td>0.103928</td>\n",
       "      <td>0.0930997</td>\n",
       "      <td>0.932211</td>\n",
       "      <td>1.57274</td>\n",
       "      <td>1.755659</td>\n",
       "      <td>0.055183</td>\n",
       "      <td>0 days 00:21:49</td>\n",
       "    </tr>\n",
       "    <tr>\n",
       "      <th>1770</th>\n",
       "      <td>2</td>\n",
       "      <td>0.105589</td>\n",
       "      <td>0.0941964</td>\n",
       "      <td>0.978673</td>\n",
       "      <td>1.59127</td>\n",
       "      <td>1.783732</td>\n",
       "      <td>0.057933</td>\n",
       "      <td>0 days 00:26:28</td>\n",
       "    </tr>\n",
       "    <tr>\n",
       "      <th>1771</th>\n",
       "      <td>3</td>\n",
       "      <td>0.102930</td>\n",
       "      <td>0.0926292</td>\n",
       "      <td>0.929177</td>\n",
       "      <td>1.56479</td>\n",
       "      <td>1.738811</td>\n",
       "      <td>0.055003</td>\n",
       "      <td>0 days 00:21:35</td>\n",
       "    </tr>\n",
       "    <tr>\n",
       "      <th>1776</th>\n",
       "      <td>8</td>\n",
       "      <td>0.103643</td>\n",
       "      <td>0.091652</td>\n",
       "      <td>0.867424</td>\n",
       "      <td>1.54829</td>\n",
       "      <td>1.750859</td>\n",
       "      <td>0.051348</td>\n",
       "      <td>0 days 00:21:35</td>\n",
       "    </tr>\n",
       "    <tr>\n",
       "      <th>1777</th>\n",
       "      <td>9</td>\n",
       "      <td>0.104016</td>\n",
       "      <td>0.0933029</td>\n",
       "      <td>0.905544</td>\n",
       "      <td>1.57618</td>\n",
       "      <td>1.757151</td>\n",
       "      <td>0.053604</td>\n",
       "      <td>0 days 00:21:43</td>\n",
       "    </tr>\n",
       "    <tr>\n",
       "      <th>1779</th>\n",
       "      <td>7</td>\n",
       "      <td>0.103961</td>\n",
       "      <td>0.0932534</td>\n",
       "      <td>0.927477</td>\n",
       "      <td>1.57534</td>\n",
       "      <td>1.756221</td>\n",
       "      <td>0.054903</td>\n",
       "      <td>0 days 00:21:57</td>\n",
       "    </tr>\n",
       "  </tbody>\n",
       "</table>\n",
       "</div>"
      ],
      "text/plain": [
       "      np_th_seed  valid_loss valid_loss_trial  train_loss_orig  \\\n",
       "1760           0    0.105525        0.0950339         0.903335   \n",
       "1762           4    0.104634         0.095096         0.961287   \n",
       "1764           6    0.101730        0.0897965         0.864627   \n",
       "1767           5    0.103299        0.0918003         0.853056   \n",
       "1768           1    0.103928        0.0930997         0.932211   \n",
       "1770           2    0.105589        0.0941964         0.978673   \n",
       "1771           3    0.102930        0.0926292         0.929177   \n",
       "1776           8    0.103643         0.091652         0.867424   \n",
       "1777           9    0.104016        0.0933029         0.905544   \n",
       "1779           7    0.103961        0.0932534         0.927477   \n",
       "\n",
       "     valid_loss_trial_orig  valid_loss_orig  train_loss         runtime  \n",
       "1760               1.60542         1.782654    0.053474 0 days 00:24:12  \n",
       "1762               1.60647         1.767598    0.056904 0 days 00:21:32  \n",
       "1764               1.51694         1.718528    0.051182 0 days 00:22:10  \n",
       "1767               1.55079         1.745050    0.050497 0 days 00:21:30  \n",
       "1768               1.57274         1.755659    0.055183 0 days 00:21:49  \n",
       "1770               1.59127         1.783732    0.057933 0 days 00:26:28  \n",
       "1771               1.56479         1.738811    0.055003 0 days 00:21:35  \n",
       "1776               1.54829         1.750859    0.051348 0 days 00:21:35  \n",
       "1777               1.57618         1.757151    0.053604 0 days 00:21:43  \n",
       "1779               1.57534         1.756221    0.054903 0 days 00:21:57  "
      ]
     },
     "execution_count": 9,
     "metadata": {},
     "output_type": "execute_result"
    }
   ],
   "source": [
    "remove_columns_with_same_value(part_valid_df)"
   ]
  },
  {
   "cell_type": "code",
   "execution_count": 10,
   "id": "4191efc7-a633-47cb-87c7-89ad069735f5",
   "metadata": {},
   "outputs": [
    {
     "data": {
      "text/plain": [
       "1.570823009390076"
      ]
     },
     "execution_count": 10,
     "metadata": {},
     "output_type": "execute_result"
    }
   ],
   "source": [
    "part_valid_df.valid_loss_trial_orig.mean()"
   ]
  },
  {
   "cell_type": "code",
   "execution_count": 11,
   "id": "dbed83b7-2679-451a-a1d6-fd6f4ba5807d",
   "metadata": {},
   "outputs": [],
   "source": [
    "valid_age_preds = []\n",
    "for i_exp in part_valid_df.sort_values(by='train_loss_orig').index:\n",
    "    valid_age_preds.append(np.load(\n",
    "        os.path.join(folder, str(i_exp), 'valid_mean_pred.npy')))"
   ]
  },
  {
   "cell_type": "markdown",
   "id": "a7e7479c-eddf-4cce-9399-7c33a88143a6",
   "metadata": {},
   "source": [
    "### Load valid trial ys for comparison"
   ]
  },
  {
   "cell_type": "code",
   "execution_count": 12,
   "id": "8babc4ec-e65a-4022-a738-18380348dc9a",
   "metadata": {},
   "outputs": [
    {
     "name": "stderr",
     "output_type": "stream",
     "text": [
      "/home/schirrmr/anaconda3/envs/invertible/lib/python3.7/site-packages/moabb/datasets/neiry.py:78: DeprecationWarning: `np.int` is a deprecated alias for the builtin `int`. To silence this warning, use `int` by itself. Doing this will not modify any behavior and is safe. When replacing `np.int`, you may wish to use e.g. `np.int64` or `np.int32` to specify the precision. If you wish to review your current use, check the release note link for additional information.\n",
      "Deprecated in NumPy 1.20; for more details and guidance: https://numpy.org/devdocs/release/1.20.0-notes.html#deprecations\n",
      "  (\"id\", np.int),\n",
      "/home/schirrmr/anaconda3/envs/invertible/lib/python3.7/site-packages/moabb/datasets/neiry.py:79: DeprecationWarning: `np.int` is a deprecated alias for the builtin `int`. To silence this warning, use `int` by itself. Doing this will not modify any behavior and is safe. When replacing `np.int`, you may wish to use e.g. `np.int64` or `np.int32` to specify the precision. If you wish to review your current use, check the release note link for additional information.\n",
      "Deprecated in NumPy 1.20; for more details and guidance: https://numpy.org/devdocs/release/1.20.0-notes.html#deprecations\n",
      "  (\"target\", np.int),\n",
      "/home/schirrmr/anaconda3/envs/invertible/lib/python3.7/site-packages/moabb/datasets/neiry.py:80: DeprecationWarning: `np.bool` is a deprecated alias for the builtin `bool`. To silence this warning, use `bool` by itself. Doing this will not modify any behavior and is safe. If you specifically wanted the numpy scalar type, use `np.bool_` here.\n",
      "Deprecated in NumPy 1.20; for more details and guidance: https://numpy.org/devdocs/release/1.20.0-notes.html#deprecations\n",
      "  (\"is_train\", np.bool),\n",
      "/home/schirrmr/anaconda3/envs/invertible/lib/python3.7/site-packages/moabb/datasets/neiry.py:81: DeprecationWarning: `np.int` is a deprecated alias for the builtin `int`. To silence this warning, use `int` by itself. Doing this will not modify any behavior and is safe. When replacing `np.int`, you may wish to use e.g. `np.int64` or `np.int32` to specify the precision. If you wish to review your current use, check the release note link for additional information.\n",
      "Deprecated in NumPy 1.20; for more details and guidance: https://numpy.org/devdocs/release/1.20.0-notes.html#deprecations\n",
      "  (\"prediction\", np.int),\n",
      "/home/schirrmr/anaconda3/envs/invertible/lib/python3.7/site-packages/moabb/datasets/neiry.py:82: DeprecationWarning: `np.object` is a deprecated alias for the builtin `object`. To silence this warning, use `object` by itself. Doing this will not modify any behavior and is safe. \n",
      "Deprecated in NumPy 1.20; for more details and guidance: https://numpy.org/devdocs/release/1.20.0-notes.html#deprecations\n",
      "  (\"sessions\", np.object),  # list of `_session_dtype`\n",
      "/home/schirrmr/anaconda3/envs/invertible/lib/python3.7/site-packages/moabb/datasets/neiry.py:87: DeprecationWarning: `np.object` is a deprecated alias for the builtin `object`. To silence this warning, use `object` by itself. Doing this will not modify any behavior and is safe. \n",
      "Deprecated in NumPy 1.20; for more details and guidance: https://numpy.org/devdocs/release/1.20.0-notes.html#deprecations\n",
      "  (\"eeg\", np.object),\n",
      "/home/schirrmr/anaconda3/envs/invertible/lib/python3.7/site-packages/moabb/datasets/neiry.py:88: DeprecationWarning: `np.object` is a deprecated alias for the builtin `object`. To silence this warning, use `object` by itself. Doing this will not modify any behavior and is safe. \n",
      "Deprecated in NumPy 1.20; for more details and guidance: https://numpy.org/devdocs/release/1.20.0-notes.html#deprecations\n",
      "  (\"starts\", np.object),\n",
      "/home/schirrmr/anaconda3/envs/invertible/lib/python3.7/site-packages/moabb/datasets/neiry.py:89: DeprecationWarning: `np.object` is a deprecated alias for the builtin `object`. To silence this warning, use `object` by itself. Doing this will not modify any behavior and is safe. \n",
      "Deprecated in NumPy 1.20; for more details and guidance: https://numpy.org/devdocs/release/1.20.0-notes.html#deprecations\n",
      "  (\"stimuli\", np.object),\n"
     ]
    },
    {
     "name": "stdout",
     "output_type": "stream",
     "text": [
      "CPU times: user 2.24 s, sys: 2.04 s, total: 4.28 s\n",
      "Wall time: 4.37 s\n"
     ]
    }
   ],
   "source": [
    "%%time\n",
    "import pickle\n",
    "data_path = '/work/dlclarge2/schirrmr-eeg-age-competition/pkl-datasets/'\n",
    "tuabn_valid = pickle.load(open(os.path.join(data_path, 'tuabn_valid.pkl'), 'rb'))\n",
    "\n",
    "ch_names = tuabn_valid.datasets[0].windows.ch_names\n",
    "# needed later for inverting target transform\n",
    "target_scaler = tuabn_valid.target_transform\n",
    "\n",
    "\n",
    "valid_loader = th.utils.data.DataLoader(\n",
    "    tuabn_valid,\n",
    "    batch_size=128,\n",
    "    shuffle=False,\n",
    "    num_workers=2)\n",
    "\n"
   ]
  },
  {
   "cell_type": "code",
   "execution_count": 13,
   "id": "01137381-0747-477e-970a-7c00783cb204",
   "metadata": {},
   "outputs": [
    {
     "data": {
      "application/vnd.jupyter.widget-view+json": {
       "model_id": "9f38ac5c62d94e9ebcc625924345a8ea",
       "version_major": 2,
       "version_minor": 0
      },
      "text/plain": [
       "  0%|          | 0/15 [00:00<?, ?it/s]"
      ]
     },
     "metadata": {},
     "output_type": "display_data"
    }
   ],
   "source": [
    "all_y = []\n",
    "all_is = []\n",
    "for X,y,i  in tqdm(valid_loader):\n",
    "    all_y.append(y.detach().cpu().numpy())\n",
    "    all_is.append(i)\n"
   ]
  },
  {
   "cell_type": "code",
   "execution_count": 14,
   "id": "0558ab33-e31c-4a8f-a1e6-caa85d1787a2",
   "metadata": {},
   "outputs": [],
   "source": [
    "i_window_in_trials = np.concatenate(\n",
    "    [i[0].cpu().numpy() for i in all_is])\n",
    "window_0_per_trial_mask = np.diff(i_window_in_trials, prepend=[np.inf]) != 1\n",
    "trial_ys = np.concatenate(all_y)[window_0_per_trial_mask]\n",
    "subject_ys = trial_ys[tuabn_valid.description.condition == 'EC']"
   ]
  },
  {
   "cell_type": "code",
   "execution_count": 15,
   "id": "0e07cfda-66e1-47c2-95b8-1c1109c130b7",
   "metadata": {},
   "outputs": [
    {
     "data": {
      "text/plain": [
       "1.5507921124283863"
      ]
     },
     "execution_count": 15,
     "metadata": {},
     "output_type": "execute_result"
    }
   ],
   "source": [
    "target_scaler = tuabn_valid.target_transform\n",
    "np.abs(valid_age_preds[0] - subject_ys).mean() * (target_scaler.mult_element -target_scaler.add_element)"
   ]
  },
  {
   "cell_type": "code",
   "execution_count": 16,
   "id": "01e6763c-9655-40cb-a344-1fa3b67b1b7b",
   "metadata": {},
   "outputs": [
    {
     "data": {
      "text/html": [
       "<div>\n",
       "<style scoped>\n",
       "    .dataframe tbody tr th:only-of-type {\n",
       "        vertical-align: middle;\n",
       "    }\n",
       "\n",
       "    .dataframe tbody tr th {\n",
       "        vertical-align: top;\n",
       "    }\n",
       "\n",
       "    .dataframe thead th {\n",
       "        text-align: right;\n",
       "    }\n",
       "</style>\n",
       "<table border=\"1\" class=\"dataframe\">\n",
       "  <thead>\n",
       "    <tr style=\"text-align: right;\">\n",
       "      <th></th>\n",
       "      <th>np_th_seed</th>\n",
       "      <th>valid_loss</th>\n",
       "      <th>valid_loss_trial</th>\n",
       "      <th>train_loss_orig</th>\n",
       "      <th>valid_loss_trial_orig</th>\n",
       "      <th>valid_loss_orig</th>\n",
       "      <th>train_loss</th>\n",
       "      <th>runtime</th>\n",
       "    </tr>\n",
       "  </thead>\n",
       "  <tbody>\n",
       "    <tr>\n",
       "      <th>1767</th>\n",
       "      <td>5</td>\n",
       "      <td>0.103299</td>\n",
       "      <td>0.0918003</td>\n",
       "      <td>0.853056</td>\n",
       "      <td>1.55079</td>\n",
       "      <td>1.745050</td>\n",
       "      <td>0.050497</td>\n",
       "      <td>0 days 00:21:30</td>\n",
       "    </tr>\n",
       "    <tr>\n",
       "      <th>1764</th>\n",
       "      <td>6</td>\n",
       "      <td>0.101730</td>\n",
       "      <td>0.0897965</td>\n",
       "      <td>0.864627</td>\n",
       "      <td>1.51694</td>\n",
       "      <td>1.718528</td>\n",
       "      <td>0.051182</td>\n",
       "      <td>0 days 00:22:10</td>\n",
       "    </tr>\n",
       "    <tr>\n",
       "      <th>1776</th>\n",
       "      <td>8</td>\n",
       "      <td>0.103643</td>\n",
       "      <td>0.091652</td>\n",
       "      <td>0.867424</td>\n",
       "      <td>1.54829</td>\n",
       "      <td>1.750859</td>\n",
       "      <td>0.051348</td>\n",
       "      <td>0 days 00:21:35</td>\n",
       "    </tr>\n",
       "    <tr>\n",
       "      <th>1760</th>\n",
       "      <td>0</td>\n",
       "      <td>0.105525</td>\n",
       "      <td>0.0950339</td>\n",
       "      <td>0.903335</td>\n",
       "      <td>1.60542</td>\n",
       "      <td>1.782654</td>\n",
       "      <td>0.053474</td>\n",
       "      <td>0 days 00:24:12</td>\n",
       "    </tr>\n",
       "    <tr>\n",
       "      <th>1777</th>\n",
       "      <td>9</td>\n",
       "      <td>0.104016</td>\n",
       "      <td>0.0933029</td>\n",
       "      <td>0.905544</td>\n",
       "      <td>1.57618</td>\n",
       "      <td>1.757151</td>\n",
       "      <td>0.053604</td>\n",
       "      <td>0 days 00:21:43</td>\n",
       "    </tr>\n",
       "    <tr>\n",
       "      <th>1779</th>\n",
       "      <td>7</td>\n",
       "      <td>0.103961</td>\n",
       "      <td>0.0932534</td>\n",
       "      <td>0.927477</td>\n",
       "      <td>1.57534</td>\n",
       "      <td>1.756221</td>\n",
       "      <td>0.054903</td>\n",
       "      <td>0 days 00:21:57</td>\n",
       "    </tr>\n",
       "    <tr>\n",
       "      <th>1771</th>\n",
       "      <td>3</td>\n",
       "      <td>0.102930</td>\n",
       "      <td>0.0926292</td>\n",
       "      <td>0.929177</td>\n",
       "      <td>1.56479</td>\n",
       "      <td>1.738811</td>\n",
       "      <td>0.055003</td>\n",
       "      <td>0 days 00:21:35</td>\n",
       "    </tr>\n",
       "    <tr>\n",
       "      <th>1768</th>\n",
       "      <td>1</td>\n",
       "      <td>0.103928</td>\n",
       "      <td>0.0930997</td>\n",
       "      <td>0.932211</td>\n",
       "      <td>1.57274</td>\n",
       "      <td>1.755659</td>\n",
       "      <td>0.055183</td>\n",
       "      <td>0 days 00:21:49</td>\n",
       "    </tr>\n",
       "    <tr>\n",
       "      <th>1762</th>\n",
       "      <td>4</td>\n",
       "      <td>0.104634</td>\n",
       "      <td>0.095096</td>\n",
       "      <td>0.961287</td>\n",
       "      <td>1.60647</td>\n",
       "      <td>1.767598</td>\n",
       "      <td>0.056904</td>\n",
       "      <td>0 days 00:21:32</td>\n",
       "    </tr>\n",
       "    <tr>\n",
       "      <th>1770</th>\n",
       "      <td>2</td>\n",
       "      <td>0.105589</td>\n",
       "      <td>0.0941964</td>\n",
       "      <td>0.978673</td>\n",
       "      <td>1.59127</td>\n",
       "      <td>1.783732</td>\n",
       "      <td>0.057933</td>\n",
       "      <td>0 days 00:26:28</td>\n",
       "    </tr>\n",
       "  </tbody>\n",
       "</table>\n",
       "</div>"
      ],
      "text/plain": [
       "      np_th_seed  valid_loss valid_loss_trial  train_loss_orig  \\\n",
       "1767           5    0.103299        0.0918003         0.853056   \n",
       "1764           6    0.101730        0.0897965         0.864627   \n",
       "1776           8    0.103643         0.091652         0.867424   \n",
       "1760           0    0.105525        0.0950339         0.903335   \n",
       "1777           9    0.104016        0.0933029         0.905544   \n",
       "1779           7    0.103961        0.0932534         0.927477   \n",
       "1771           3    0.102930        0.0926292         0.929177   \n",
       "1768           1    0.103928        0.0930997         0.932211   \n",
       "1762           4    0.104634         0.095096         0.961287   \n",
       "1770           2    0.105589        0.0941964         0.978673   \n",
       "\n",
       "     valid_loss_trial_orig  valid_loss_orig  train_loss         runtime  \n",
       "1767               1.55079         1.745050    0.050497 0 days 00:21:30  \n",
       "1764               1.51694         1.718528    0.051182 0 days 00:22:10  \n",
       "1776               1.54829         1.750859    0.051348 0 days 00:21:35  \n",
       "1760               1.60542         1.782654    0.053474 0 days 00:24:12  \n",
       "1777               1.57618         1.757151    0.053604 0 days 00:21:43  \n",
       "1779               1.57534         1.756221    0.054903 0 days 00:21:57  \n",
       "1771               1.56479         1.738811    0.055003 0 days 00:21:35  \n",
       "1768               1.57274         1.755659    0.055183 0 days 00:21:49  \n",
       "1762               1.60647         1.767598    0.056904 0 days 00:21:32  \n",
       "1770               1.59127         1.783732    0.057933 0 days 00:26:28  "
      ]
     },
     "execution_count": 16,
     "metadata": {},
     "output_type": "execute_result"
    }
   ],
   "source": [
    "remove_columns_with_same_value(part_valid_df.sort_values(by='train_loss_orig'))"
   ]
  },
  {
   "cell_type": "code",
   "execution_count": 40,
   "id": "0dff833f-9602-4624-a0b6-446087fcf46f",
   "metadata": {},
   "outputs": [
    {
     "data": {
      "text/plain": [
       "13.466793201461675"
      ]
     },
     "execution_count": 40,
     "metadata": {},
     "output_type": "execute_result"
    }
   ],
   "source": [
    "np.mean(valid_age_preds[:4], axis=0).max() * (target_scaler.mult_element -target_scaler.add_element)"
   ]
  },
  {
   "cell_type": "code",
   "execution_count": 31,
   "id": "69f9e727-f682-4039-ba2b-59d4683c012e",
   "metadata": {},
   "outputs": [
    {
     "data": {
      "text/plain": [
       "13.535786521252039"
      ]
     },
     "execution_count": 31,
     "metadata": {},
     "output_type": "execute_result"
    }
   ],
   "source": [
    "np.mean(valid_age_preds[:1], axis=0).max()* (target_scaler.mult_element -target_scaler.add_element)"
   ]
  },
  {
   "cell_type": "code",
   "execution_count": 32,
   "id": "25babff1-4e13-42ab-95a8-e3dedb687bd6",
   "metadata": {},
   "outputs": [
    {
     "data": {
      "text/plain": [
       "1.0456886247203985"
      ]
     },
     "execution_count": 32,
     "metadata": {},
     "output_type": "execute_result"
    }
   ],
   "source": [
    "np.mean(valid_age_preds[:3], axis=0).min() * (target_scaler.mult_element -target_scaler.add_element)"
   ]
  },
  {
   "cell_type": "code",
   "execution_count": 33,
   "id": "af3844c9-d8ea-4f50-aecc-8fa7bb27ef47",
   "metadata": {},
   "outputs": [
    {
     "data": {
      "text/plain": [
       "0.9866670271468536"
      ]
     },
     "execution_count": 33,
     "metadata": {},
     "output_type": "execute_result"
    }
   ],
   "source": [
    "np.mean(valid_age_preds[:1], axis=0).min()* (target_scaler.mult_element -target_scaler.add_element)"
   ]
  },
  {
   "cell_type": "code",
   "execution_count": 42,
   "id": "84c7f9fc-3ce0-4e09-ba1d-bba9fef75ec9",
   "metadata": {},
   "outputs": [
    {
     "data": {
      "text/plain": [
       "1.519403344557536"
      ]
     },
     "execution_count": 42,
     "metadata": {},
     "output_type": "execute_result"
    }
   ],
   "source": [
    "np.abs(np.mean(valid_age_preds[:3], axis=0) - subject_ys).mean() * (target_scaler.mult_element -target_scaler.add_element)"
   ]
  },
  {
   "cell_type": "code",
   "execution_count": 89,
   "id": "9189fcdb-9f14-4cce-9e6c-3f8ea468e72b",
   "metadata": {},
   "outputs": [],
   "source": [
    "# load all valid pred arrs\n",
    "# also load valid set to get ys and is\n",
    "# then you can mean or compare etc by mask based on losses"
   ]
  },
  {
   "cell_type": "code",
   "execution_count": 71,
   "id": "f97edbb6-e9de-42cd-83c5-dac6bd2cff31",
   "metadata": {},
   "outputs": [],
   "source": [
    "part_df_test = df[(df.n_start_filters == 50) &\n",
    "             (df.n_epochs == 30) & (df.n_swavg_epochs ==10) &\n",
    "             (df.lr == 3e-4)  &\n",
    "             (df.low_cut_hz == 0.5) &\n",
    "             (df.lr_schedule == '-')&\n",
    "             (df.common_average_rereference == True) &\n",
    "                (df.train_on_valid == True)]"
   ]
  },
  {
   "cell_type": "code",
   "execution_count": 72,
   "id": "de71c5b4-54b3-4020-b59d-1e87664ff117",
   "metadata": {},
   "outputs": [
    {
     "data": {
      "text/html": [
       "<div>\n",
       "<style scoped>\n",
       "    .dataframe tbody tr th:only-of-type {\n",
       "        vertical-align: middle;\n",
       "    }\n",
       "\n",
       "    .dataframe tbody tr th {\n",
       "        vertical-align: top;\n",
       "    }\n",
       "\n",
       "    .dataframe thead th {\n",
       "        text-align: right;\n",
       "    }\n",
       "</style>\n",
       "<table border=\"1\" class=\"dataframe\">\n",
       "  <thead>\n",
       "    <tr style=\"text-align: right;\">\n",
       "      <th></th>\n",
       "      <th>np_th_seed</th>\n",
       "      <th>valid_loss</th>\n",
       "      <th>valid_loss_trial</th>\n",
       "      <th>train_loss_orig</th>\n",
       "      <th>valid_loss_trial_orig</th>\n",
       "      <th>valid_loss_orig</th>\n",
       "      <th>train_loss</th>\n",
       "      <th>runtime</th>\n",
       "    </tr>\n",
       "  </thead>\n",
       "  <tbody>\n",
       "    <tr>\n",
       "      <th>1763</th>\n",
       "      <td>4</td>\n",
       "      <td>0.049935</td>\n",
       "      <td>0.0427522</td>\n",
       "      <td>0.822208</td>\n",
       "      <td>0.722218</td>\n",
       "      <td>0.843554</td>\n",
       "      <td>0.048671</td>\n",
       "      <td>0 days 00:25:54</td>\n",
       "    </tr>\n",
       "    <tr>\n",
       "      <th>1769</th>\n",
       "      <td>2</td>\n",
       "      <td>0.051927</td>\n",
       "      <td>0.0434199</td>\n",
       "      <td>0.854608</td>\n",
       "      <td>0.733497</td>\n",
       "      <td>0.877209</td>\n",
       "      <td>0.050589</td>\n",
       "      <td>0 days 00:27:30</td>\n",
       "    </tr>\n",
       "    <tr>\n",
       "      <th>1775</th>\n",
       "      <td>8</td>\n",
       "      <td>0.052588</td>\n",
       "      <td>0.0447884</td>\n",
       "      <td>0.878158</td>\n",
       "      <td>0.756615</td>\n",
       "      <td>0.888372</td>\n",
       "      <td>0.051983</td>\n",
       "      <td>0 days 00:26:05</td>\n",
       "    </tr>\n",
       "    <tr>\n",
       "      <th>1766</th>\n",
       "      <td>5</td>\n",
       "      <td>0.053755</td>\n",
       "      <td>0.0456561</td>\n",
       "      <td>0.882239</td>\n",
       "      <td>0.771273</td>\n",
       "      <td>0.908082</td>\n",
       "      <td>0.052225</td>\n",
       "      <td>0 days 00:25:43</td>\n",
       "    </tr>\n",
       "    <tr>\n",
       "      <th>1765</th>\n",
       "      <td>6</td>\n",
       "      <td>0.053942</td>\n",
       "      <td>0.0462072</td>\n",
       "      <td>0.885987</td>\n",
       "      <td>0.780584</td>\n",
       "      <td>0.911246</td>\n",
       "      <td>0.052447</td>\n",
       "      <td>0 days 00:27:00</td>\n",
       "    </tr>\n",
       "    <tr>\n",
       "      <th>1773</th>\n",
       "      <td>1</td>\n",
       "      <td>0.054927</td>\n",
       "      <td>0.046808</td>\n",
       "      <td>0.909385</td>\n",
       "      <td>0.790732</td>\n",
       "      <td>0.927881</td>\n",
       "      <td>0.053832</td>\n",
       "      <td>0 days 00:28:20</td>\n",
       "    </tr>\n",
       "    <tr>\n",
       "      <th>1780</th>\n",
       "      <td>9</td>\n",
       "      <td>0.056410</td>\n",
       "      <td>0.0485205</td>\n",
       "      <td>0.922515</td>\n",
       "      <td>0.819662</td>\n",
       "      <td>0.952938</td>\n",
       "      <td>0.054609</td>\n",
       "      <td>0 days 00:45:55</td>\n",
       "    </tr>\n",
       "    <tr>\n",
       "      <th>1772</th>\n",
       "      <td>0</td>\n",
       "      <td>0.058398</td>\n",
       "      <td>0.0498629</td>\n",
       "      <td>0.968870</td>\n",
       "      <td>0.842339</td>\n",
       "      <td>0.986528</td>\n",
       "      <td>0.057353</td>\n",
       "      <td>0 days 00:26:00</td>\n",
       "    </tr>\n",
       "    <tr>\n",
       "      <th>1778</th>\n",
       "      <td>7</td>\n",
       "      <td>0.064045</td>\n",
       "      <td>0.0549316</td>\n",
       "      <td>1.026710</td>\n",
       "      <td>0.927966</td>\n",
       "      <td>1.081911</td>\n",
       "      <td>0.060777</td>\n",
       "      <td>0 days 00:25:58</td>\n",
       "    </tr>\n",
       "    <tr>\n",
       "      <th>1761</th>\n",
       "      <td>3</td>\n",
       "      <td>0.072315</td>\n",
       "      <td>0.0690185</td>\n",
       "      <td>1.200309</td>\n",
       "      <td>1.16594</td>\n",
       "      <td>1.221630</td>\n",
       "      <td>0.071053</td>\n",
       "      <td>0 days 00:25:49</td>\n",
       "    </tr>\n",
       "  </tbody>\n",
       "</table>\n",
       "</div>"
      ],
      "text/plain": [
       "      np_th_seed  valid_loss valid_loss_trial  train_loss_orig  \\\n",
       "1763           4    0.049935        0.0427522         0.822208   \n",
       "1769           2    0.051927        0.0434199         0.854608   \n",
       "1775           8    0.052588        0.0447884         0.878158   \n",
       "1766           5    0.053755        0.0456561         0.882239   \n",
       "1765           6    0.053942        0.0462072         0.885987   \n",
       "1773           1    0.054927         0.046808         0.909385   \n",
       "1780           9    0.056410        0.0485205         0.922515   \n",
       "1772           0    0.058398        0.0498629         0.968870   \n",
       "1778           7    0.064045        0.0549316         1.026710   \n",
       "1761           3    0.072315        0.0690185         1.200309   \n",
       "\n",
       "     valid_loss_trial_orig  valid_loss_orig  train_loss         runtime  \n",
       "1763              0.722218         0.843554    0.048671 0 days 00:25:54  \n",
       "1769              0.733497         0.877209    0.050589 0 days 00:27:30  \n",
       "1775              0.756615         0.888372    0.051983 0 days 00:26:05  \n",
       "1766              0.771273         0.908082    0.052225 0 days 00:25:43  \n",
       "1765              0.780584         0.911246    0.052447 0 days 00:27:00  \n",
       "1773              0.790732         0.927881    0.053832 0 days 00:28:20  \n",
       "1780              0.819662         0.952938    0.054609 0 days 00:45:55  \n",
       "1772              0.842339         0.986528    0.057353 0 days 00:26:00  \n",
       "1778              0.927966         1.081911    0.060777 0 days 00:25:58  \n",
       "1761               1.16594         1.221630    0.071053 0 days 00:25:49  "
      ]
     },
     "execution_count": 72,
     "metadata": {},
     "output_type": "execute_result"
    }
   ],
   "source": [
    "remove_columns_with_same_value(part_df_test.sort_values(by='train_loss_orig'))"
   ]
  },
  {
   "cell_type": "code",
   "execution_count": 73,
   "id": "3662e88b-4d0c-499b-9bfb-3f9e57ba871b",
   "metadata": {},
   "outputs": [],
   "source": [
    "submission_dfs = []\n",
    "for exp_id in part_df_test.sort_values(by='train_loss_orig').index[:3]:\n",
    "    submission_dfs.append(pd.read_csv(os.path.join(folder, str(exp_id), 'submission.csv')))\n",
    "\n",
    "age_preds = [np.array(d.age) for d in submission_dfs]\n",
    "mean_age_pred = np.mean(np.stack(age_preds, axis=0), axis=0)\n",
    "\n",
    "tuabn_eval_df = pd.DataFrame({'id': submission_dfs[0].id, 'age': mean_age_pred})\n",
    "tuabn_eval_df.to_csv(os.path.join('./final_submission.csv'), index=False)"
   ]
  },
  {
   "cell_type": "code",
   "execution_count": 74,
   "id": "2cd44a17-60b8-4448-9501-08dfc8369ab8",
   "metadata": {},
   "outputs": [],
   "source": [
    "final_submission_df = pd.read_csv('final_submission.csv')"
   ]
  },
  {
   "cell_type": "code",
   "execution_count": 75,
   "id": "5c7c9a31-2414-4ab7-a36b-c29af1977ec3",
   "metadata": {},
   "outputs": [
    {
     "data": {
      "text/plain": [
       "6.212793333333334"
      ]
     },
     "execution_count": 75,
     "metadata": {},
     "output_type": "execute_result"
    }
   ],
   "source": [
    "final_submission_df.age.min()"
   ]
  },
  {
   "cell_type": "code",
   "execution_count": 76,
   "id": "094b22de-db3a-4a1b-9975-a28ff6d84b85",
   "metadata": {},
   "outputs": [
    {
     "data": {
      "text/plain": [
       "17.39847333333333"
      ]
     },
     "execution_count": 76,
     "metadata": {},
     "output_type": "execute_result"
    }
   ],
   "source": [
    "final_submission_df.age.max()"
   ]
  },
  {
   "cell_type": "code",
   "execution_count": 77,
   "id": "45e6f30c-f245-4201-a155-6d5c3baac60e",
   "metadata": {},
   "outputs": [
    {
     "data": {
      "text/plain": [
       "5.942302"
      ]
     },
     "execution_count": 77,
     "metadata": {},
     "output_type": "execute_result"
    }
   ],
   "source": [
    "submission_dfs[0].age.min()"
   ]
  },
  {
   "cell_type": "code",
   "execution_count": 78,
   "id": "de10e61c-5619-4d9f-9605-011912884bd4",
   "metadata": {},
   "outputs": [
    {
     "data": {
      "text/plain": [
       "17.834967000000002"
      ]
     },
     "execution_count": 78,
     "metadata": {},
     "output_type": "execute_result"
    }
   ],
   "source": [
    "submission_dfs[0].age.max()"
   ]
  },
  {
   "cell_type": "code",
   "execution_count": 79,
   "id": "4a8647f5-86f6-4b06-b175-d7dca702def9",
   "metadata": {},
   "outputs": [
    {
     "data": {
      "text/plain": [
       "6.212793333333334"
      ]
     },
     "execution_count": 79,
     "metadata": {},
     "output_type": "execute_result"
    }
   ],
   "source": [
    "mean_age_pred.min()"
   ]
  },
  {
   "cell_type": "code",
   "execution_count": 80,
   "id": "37b16b4c-8647-4c6d-b136-539c43793372",
   "metadata": {},
   "outputs": [
    {
     "data": {
      "text/plain": [
       "17.39847333333333"
      ]
     },
     "execution_count": 80,
     "metadata": {},
     "output_type": "execute_result"
    }
   ],
   "source": [
    "mean_age_pred.max()"
   ]
  },
  {
   "cell_type": "code",
   "execution_count": 81,
   "id": "bc8ab7b1-7a57-4d86-af29-2d0c2ea0b878",
   "metadata": {},
   "outputs": [
    {
     "data": {
      "text/plain": [
       "[<matplotlib.lines.Line2D at 0x7f5a7398b450>]"
      ]
     },
     "execution_count": 81,
     "metadata": {},
     "output_type": "execute_result"
    },
    {
     "data": {
      "image/png": "[encoded data removed]",
      "text/plain": [
       "<Figure size 576x396 with 1 Axes>"
      ]
     },
     "metadata": {},
     "output_type": "display_data"
    }
   ],
   "source": [
    "plt.plot(sorted(submission_dfs[0].age))\n",
    "plt.plot(sorted(mean_age_pred))"
   ]
  },
  {
   "cell_type": "code",
   "execution_count": 82,
   "id": "a1bbc1ad-3fe2-4ca9-8831-e579183758eb",
   "metadata": {},
   "outputs": [],
   "source": [
    "mv final_submission.csv /home/schirrmr/code/"
   ]
  },
  {
   "cell_type": "code",
   "execution_count": 83,
   "id": "2a78cace-3bce-4460-94b7-71a91a2f5ada",
   "metadata": {},
   "outputs": [
    {
     "name": "stdout",
     "output_type": "stream",
     "text": [
      "-rw-r--r-- 1 schirrmr nail 8.5K Nov 24 12:01 /home/schirrmr/code/final_submission.csv\n"
     ]
    }
   ],
   "source": [
    "ls -ahl /home/schirrmr/code/final_submission.csv"
   ]
  },
  {
   "cell_type": "code",
   "execution_count": null,
   "id": "e951c12b-4cec-4605-8575-739a08570233",
   "metadata": {},
   "outputs": [],
   "source": []
  }
 ],
 "metadata": {
  "kernelspec": {
   "display_name": "Python 3 (ipykernel)",
   "language": "python",
   "name": "python3"
  },
  "language_info": {
   "codemirror_mode": {
    "name": "ipython",
    "version": 3
   },
   "file_extension": ".py",
   "mimetype": "text/x-python",
   "name": "python",
   "nbconvert_exporter": "python",
   "pygments_lexer": "ipython3",
   "version": "3.7.12"
  },
  "widgets": {
   "application/vnd.jupyter.widget-state+json": {
    "state": {
     "1ee1babf52cf4ad1a87b212751abd527": {
      "model_module": "@jupyter-widgets/base",
      "model_module_version": "1.2.0",
      "model_name": "LayoutModel",
      "state": {}
     },
     "3ab602ab166043f7b688342acd9d3d22": {
      "model_module": "@jupyter-widgets/controls",
      "model_module_version": "1.5.0",
      "model_name": "DescriptionStyleModel",
      "state": {
       "description_width": ""
      }
     },
     "5e29184a21fd4fde803ee00f8610847d": {
      "model_module": "@jupyter-widgets/controls",
      "model_module_version": "1.5.0",
      "model_name": "FloatProgressModel",
      "state": {
       "bar_style": "success",
       "layout": "IPY_MODEL_98000e826c6b4817825d74feab5d1cbe",
       "max": 15,
       "style": "IPY_MODEL_c326f68c6caf41d3890d3b9f29398d4a",
       "value": 15
      }
     },
     "885eff314fb94ecdaa1a5683031395c1": {
      "model_module": "@jupyter-widgets/controls",
      "model_module_version": "1.5.0",
      "model_name": "DescriptionStyleModel",
      "state": {
       "description_width": ""
      }
     },
     "98000e826c6b4817825d74feab5d1cbe": {
      "model_module": "@jupyter-widgets/base",
      "model_module_version": "1.2.0",
      "model_name": "LayoutModel",
      "state": {}
     },
     "9f38ac5c62d94e9ebcc625924345a8ea": {
      "model_module": "@jupyter-widgets/controls",
      "model_module_version": "1.5.0",
      "model_name": "HBoxModel",
      "state": {
       "children": [
        "IPY_MODEL_ae4c5df94ea145c5b9e102db1b74aada",
        "IPY_MODEL_5e29184a21fd4fde803ee00f8610847d",
        "IPY_MODEL_e665a12077d94de68ebe0e86d4be0d56"
       ],
       "layout": "IPY_MODEL_1ee1babf52cf4ad1a87b212751abd527"
      }
     },
     "ae4c5df94ea145c5b9e102db1b74aada": {
      "model_module": "@jupyter-widgets/controls",
      "model_module_version": "1.5.0",
      "model_name": "HTMLModel",
      "state": {
       "layout": "IPY_MODEL_da97c2cb4cf34b0bba4c43b9978bd997",
       "style": "IPY_MODEL_885eff314fb94ecdaa1a5683031395c1",
       "value": "100%"
      }
     },
     "c326f68c6caf41d3890d3b9f29398d4a": {
      "model_module": "@jupyter-widgets/controls",
      "model_module_version": "1.5.0",
      "model_name": "ProgressStyleModel",
      "state": {
       "description_width": ""
      }
     },
     "d61e13c4241f416a860b70e91dba0ee4": {
      "model_module": "@jupyter-widgets/base",
      "model_module_version": "1.2.0",
      "model_name": "LayoutModel",
      "state": {}
     },
     "da97c2cb4cf34b0bba4c43b9978bd997": {
      "model_module": "@jupyter-widgets/base",
      "model_module_version": "1.2.0",
      "model_name": "LayoutModel",
      "state": {}
     },
     "e665a12077d94de68ebe0e86d4be0d56": {
      "model_module": "@jupyter-widgets/controls",
      "model_module_version": "1.5.0",
      "model_name": "HTMLModel",
      "state": {
       "layout": "IPY_MODEL_d61e13c4241f416a860b70e91dba0ee4",
       "style": "IPY_MODEL_3ab602ab166043f7b688342acd9d3d22",
       "value": " 15/15 [00:03&lt;00:00,  6.33it/s]"
      }
     }
    },
    "version_major": 2,
    "version_minor": 0
   }
  }
 },
 "nbformat": 4,
 "nbformat_minor": 5
}
